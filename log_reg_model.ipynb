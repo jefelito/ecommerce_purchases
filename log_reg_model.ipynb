{
 "metadata": {
  "language_info": {
   "codemirror_mode": {
    "name": "ipython",
    "version": 3
   },
   "file_extension": ".py",
   "mimetype": "text/x-python",
   "name": "python",
   "nbconvert_exporter": "python",
   "pygments_lexer": "ipython3",
   "version": "3.6.9-final"
  },
  "orig_nbformat": 2,
  "kernelspec": {
   "name": "learn-env",
   "display_name": "learn-env"
  }
 },
 "nbformat": 4,
 "nbformat_minor": 2,
 "cells": [
  {
   "source": [
    "### Notebook to iterate through Logisitic Regression Model"
   ],
   "cell_type": "markdown",
   "metadata": {}
  },
  {
   "cell_type": "code",
   "execution_count": 1,
   "metadata": {},
   "outputs": [],
   "source": [
    "# add justification for why Log Reg Model would be useful in this case"
   ]
  },
  {
   "cell_type": "code",
   "execution_count": 3,
   "metadata": {},
   "outputs": [],
   "source": [
    "# import libraries\n",
    "import pandas as pd\n",
    "pd.options.display.max_columns = 50\n",
    "import numpy as np\n",
    "import matplotlib.pyplot as plt\n",
    "import seaborn as sns\n",
    "%matplotlib inline\n",
    "import sklearn\n",
    "from sklearn.preprocessing import StandardScaler, binarize\n",
    "from sklearn.neighbors import KNeighborsClassifier\n",
    "from sklearn.linear_model import LogisticRegression\n",
    "from sklearn.tree import DecisionTreeClassifier\n",
    "from sklearn.ensemble import RandomForestClassifier\n",
    "# add import for Decision Treees\n",
    "from sklearn.feature_selection import RFECV, SelectKBest, f_regression\n",
    "import sklearn.metrics as metrics\n",
    "from sklearn.metrics import accuracy_score, precision_score, recall_score, f1_score, confusion_matrix, plot_confusion_matrix, roc_curve, auc, classification_report\n",
    "from sklearn.model_selection import train_test_split, cross_validate, cross_val_score, GridSearchCV\n",
    "import pickle"
   ]
  },
  {
   "cell_type": "code",
   "execution_count": 4,
   "metadata": {},
   "outputs": [],
   "source": [
    "# loading in cleaned dataset\n",
    "model_df = pd.read_csv('model_data.csv', index_col = 0)"
   ]
  },
  {
   "cell_type": "code",
   "execution_count": 5,
   "metadata": {},
   "outputs": [
    {
     "output_type": "execute_result",
     "data": {
      "text/plain": [
       "   Administrative  Administrative_Duration  Informational  \\\n",
       "0               0                      0.0              0   \n",
       "1               0                      0.0              0   \n",
       "2               0                      0.0              0   \n",
       "3               0                      0.0              0   \n",
       "4               0                      0.0              0   \n",
       "\n",
       "   Informational_Duration  ProductRelated  ProductRelated_Duration  \\\n",
       "0                     0.0               1                 0.000000   \n",
       "1                     0.0               2                64.000000   \n",
       "2                     0.0               1                 0.000000   \n",
       "3                     0.0               2                 2.666667   \n",
       "4                     0.0              10               627.500000   \n",
       "\n",
       "   BounceRates  ExitRates  PageValues  SpecialDay  Month  OperatingSystems  \\\n",
       "0         0.20       0.20         0.0         0.0      2                 1   \n",
       "1         0.00       0.10         0.0         0.0      2                 2   \n",
       "2         0.20       0.20         0.0         0.0      2                 4   \n",
       "3         0.05       0.14         0.0         0.0      2                 3   \n",
       "4         0.02       0.05         0.0         0.0      2                 3   \n",
       "\n",
       "   Browser  Region  TrafficType        VisitorType  Weekend  Revenue  \n",
       "0        1       1            1  Returning_Visitor    False    False  \n",
       "1        2       1            2  Returning_Visitor    False    False  \n",
       "2        1       9            3  Returning_Visitor    False    False  \n",
       "3        2       2            4  Returning_Visitor    False    False  \n",
       "4        3       1            4  Returning_Visitor     True    False  "
      ],
      "text/html": "<div>\n<style scoped>\n    .dataframe tbody tr th:only-of-type {\n        vertical-align: middle;\n    }\n\n    .dataframe tbody tr th {\n        vertical-align: top;\n    }\n\n    .dataframe thead th {\n        text-align: right;\n    }\n</style>\n<table border=\"1\" class=\"dataframe\">\n  <thead>\n    <tr style=\"text-align: right;\">\n      <th></th>\n      <th>Administrative</th>\n      <th>Administrative_Duration</th>\n      <th>Informational</th>\n      <th>Informational_Duration</th>\n      <th>ProductRelated</th>\n      <th>ProductRelated_Duration</th>\n      <th>BounceRates</th>\n      <th>ExitRates</th>\n      <th>PageValues</th>\n      <th>SpecialDay</th>\n      <th>Month</th>\n      <th>OperatingSystems</th>\n      <th>Browser</th>\n      <th>Region</th>\n      <th>TrafficType</th>\n      <th>VisitorType</th>\n      <th>Weekend</th>\n      <th>Revenue</th>\n    </tr>\n  </thead>\n  <tbody>\n    <tr>\n      <th>0</th>\n      <td>0</td>\n      <td>0.0</td>\n      <td>0</td>\n      <td>0.0</td>\n      <td>1</td>\n      <td>0.000000</td>\n      <td>0.20</td>\n      <td>0.20</td>\n      <td>0.0</td>\n      <td>0.0</td>\n      <td>2</td>\n      <td>1</td>\n      <td>1</td>\n      <td>1</td>\n      <td>1</td>\n      <td>Returning_Visitor</td>\n      <td>False</td>\n      <td>False</td>\n    </tr>\n    <tr>\n      <th>1</th>\n      <td>0</td>\n      <td>0.0</td>\n      <td>0</td>\n      <td>0.0</td>\n      <td>2</td>\n      <td>64.000000</td>\n      <td>0.00</td>\n      <td>0.10</td>\n      <td>0.0</td>\n      <td>0.0</td>\n      <td>2</td>\n      <td>2</td>\n      <td>2</td>\n      <td>1</td>\n      <td>2</td>\n      <td>Returning_Visitor</td>\n      <td>False</td>\n      <td>False</td>\n    </tr>\n    <tr>\n      <th>2</th>\n      <td>0</td>\n      <td>0.0</td>\n      <td>0</td>\n      <td>0.0</td>\n      <td>1</td>\n      <td>0.000000</td>\n      <td>0.20</td>\n      <td>0.20</td>\n      <td>0.0</td>\n      <td>0.0</td>\n      <td>2</td>\n      <td>4</td>\n      <td>1</td>\n      <td>9</td>\n      <td>3</td>\n      <td>Returning_Visitor</td>\n      <td>False</td>\n      <td>False</td>\n    </tr>\n    <tr>\n      <th>3</th>\n      <td>0</td>\n      <td>0.0</td>\n      <td>0</td>\n      <td>0.0</td>\n      <td>2</td>\n      <td>2.666667</td>\n      <td>0.05</td>\n      <td>0.14</td>\n      <td>0.0</td>\n      <td>0.0</td>\n      <td>2</td>\n      <td>3</td>\n      <td>2</td>\n      <td>2</td>\n      <td>4</td>\n      <td>Returning_Visitor</td>\n      <td>False</td>\n      <td>False</td>\n    </tr>\n    <tr>\n      <th>4</th>\n      <td>0</td>\n      <td>0.0</td>\n      <td>0</td>\n      <td>0.0</td>\n      <td>10</td>\n      <td>627.500000</td>\n      <td>0.02</td>\n      <td>0.05</td>\n      <td>0.0</td>\n      <td>0.0</td>\n      <td>2</td>\n      <td>3</td>\n      <td>3</td>\n      <td>1</td>\n      <td>4</td>\n      <td>Returning_Visitor</td>\n      <td>True</td>\n      <td>False</td>\n    </tr>\n  </tbody>\n</table>\n</div>"
     },
     "metadata": {},
     "execution_count": 5
    }
   ],
   "source": [
    "model_df.head()"
   ]
  },
  {
   "cell_type": "code",
   "execution_count": 6,
   "metadata": {},
   "outputs": [],
   "source": [
    "# Creating Dummys Columns from Cat\n",
    "model_df = pd.get_dummies(model_df, columns=['SpecialDay', 'Month', 'OperatingSystems','Browser','Region','TrafficType','VisitorType','Weekend'])"
   ]
  },
  {
   "cell_type": "code",
   "execution_count": 7,
   "metadata": {},
   "outputs": [
    {
     "output_type": "execute_result",
     "data": {
      "text/plain": [
       "   Administrative  Administrative_Duration  Informational  \\\n",
       "0               0                      0.0              0   \n",
       "1               0                      0.0              0   \n",
       "2               0                      0.0              0   \n",
       "3               0                      0.0              0   \n",
       "4               0                      0.0              0   \n",
       "\n",
       "   Informational_Duration  ProductRelated  ProductRelated_Duration  \\\n",
       "0                     0.0               1                 0.000000   \n",
       "1                     0.0               2                64.000000   \n",
       "2                     0.0               1                 0.000000   \n",
       "3                     0.0               2                 2.666667   \n",
       "4                     0.0              10               627.500000   \n",
       "\n",
       "   BounceRates  ExitRates  PageValues  Revenue  SpecialDay_0.0  \\\n",
       "0         0.20       0.20         0.0    False               1   \n",
       "1         0.00       0.10         0.0    False               1   \n",
       "2         0.20       0.20         0.0    False               1   \n",
       "3         0.05       0.14         0.0    False               1   \n",
       "4         0.02       0.05         0.0    False               1   \n",
       "\n",
       "   SpecialDay_0.2  SpecialDay_0.4  SpecialDay_0.6  SpecialDay_0.8  \\\n",
       "0               0               0               0               0   \n",
       "1               0               0               0               0   \n",
       "2               0               0               0               0   \n",
       "3               0               0               0               0   \n",
       "4               0               0               0               0   \n",
       "\n",
       "   SpecialDay_1.0  Month_2  Month_3  Month_5  Month_6  Month_7  Month_8  \\\n",
       "0               0        1        0        0        0        0        0   \n",
       "1               0        1        0        0        0        0        0   \n",
       "2               0        1        0        0        0        0        0   \n",
       "3               0        1        0        0        0        0        0   \n",
       "4               0        1        0        0        0        0        0   \n",
       "\n",
       "   Month_9  Month_10  Month_11  ...  TrafficType_1  TrafficType_2  \\\n",
       "0        0         0         0  ...              1              0   \n",
       "1        0         0         0  ...              0              1   \n",
       "2        0         0         0  ...              0              0   \n",
       "3        0         0         0  ...              0              0   \n",
       "4        0         0         0  ...              0              0   \n",
       "\n",
       "   TrafficType_3  TrafficType_4  TrafficType_5  TrafficType_6  TrafficType_7  \\\n",
       "0              0              0              0              0              0   \n",
       "1              0              0              0              0              0   \n",
       "2              1              0              0              0              0   \n",
       "3              0              1              0              0              0   \n",
       "4              0              1              0              0              0   \n",
       "\n",
       "   TrafficType_8  TrafficType_9  TrafficType_10  TrafficType_11  \\\n",
       "0              0              0               0               0   \n",
       "1              0              0               0               0   \n",
       "2              0              0               0               0   \n",
       "3              0              0               0               0   \n",
       "4              0              0               0               0   \n",
       "\n",
       "   TrafficType_12  TrafficType_13  TrafficType_14  TrafficType_15  \\\n",
       "0               0               0               0               0   \n",
       "1               0               0               0               0   \n",
       "2               0               0               0               0   \n",
       "3               0               0               0               0   \n",
       "4               0               0               0               0   \n",
       "\n",
       "   TrafficType_16  TrafficType_17  TrafficType_18  TrafficType_19  \\\n",
       "0               0               0               0               0   \n",
       "1               0               0               0               0   \n",
       "2               0               0               0               0   \n",
       "3               0               0               0               0   \n",
       "4               0               0               0               0   \n",
       "\n",
       "   TrafficType_20  VisitorType_New_Visitor  VisitorType_Other  \\\n",
       "0               0                        0                  0   \n",
       "1               0                        0                  0   \n",
       "2               0                        0                  0   \n",
       "3               0                        0                  0   \n",
       "4               0                        0                  0   \n",
       "\n",
       "   VisitorType_Returning_Visitor  Weekend_False  Weekend_True  \n",
       "0                              1              1             0  \n",
       "1                              1              1             0  \n",
       "2                              1              1             0  \n",
       "3                              1              1             0  \n",
       "4                              1              0             1  \n",
       "\n",
       "[5 rows x 81 columns]"
      ],
      "text/html": "<div>\n<style scoped>\n    .dataframe tbody tr th:only-of-type {\n        vertical-align: middle;\n    }\n\n    .dataframe tbody tr th {\n        vertical-align: top;\n    }\n\n    .dataframe thead th {\n        text-align: right;\n    }\n</style>\n<table border=\"1\" class=\"dataframe\">\n  <thead>\n    <tr style=\"text-align: right;\">\n      <th></th>\n      <th>Administrative</th>\n      <th>Administrative_Duration</th>\n      <th>Informational</th>\n      <th>Informational_Duration</th>\n      <th>ProductRelated</th>\n      <th>ProductRelated_Duration</th>\n      <th>BounceRates</th>\n      <th>ExitRates</th>\n      <th>PageValues</th>\n      <th>Revenue</th>\n      <th>SpecialDay_0.0</th>\n      <th>SpecialDay_0.2</th>\n      <th>SpecialDay_0.4</th>\n      <th>SpecialDay_0.6</th>\n      <th>SpecialDay_0.8</th>\n      <th>SpecialDay_1.0</th>\n      <th>Month_2</th>\n      <th>Month_3</th>\n      <th>Month_5</th>\n      <th>Month_6</th>\n      <th>Month_7</th>\n      <th>Month_8</th>\n      <th>Month_9</th>\n      <th>Month_10</th>\n      <th>Month_11</th>\n      <th>...</th>\n      <th>TrafficType_1</th>\n      <th>TrafficType_2</th>\n      <th>TrafficType_3</th>\n      <th>TrafficType_4</th>\n      <th>TrafficType_5</th>\n      <th>TrafficType_6</th>\n      <th>TrafficType_7</th>\n      <th>TrafficType_8</th>\n      <th>TrafficType_9</th>\n      <th>TrafficType_10</th>\n      <th>TrafficType_11</th>\n      <th>TrafficType_12</th>\n      <th>TrafficType_13</th>\n      <th>TrafficType_14</th>\n      <th>TrafficType_15</th>\n      <th>TrafficType_16</th>\n      <th>TrafficType_17</th>\n      <th>TrafficType_18</th>\n      <th>TrafficType_19</th>\n      <th>TrafficType_20</th>\n      <th>VisitorType_New_Visitor</th>\n      <th>VisitorType_Other</th>\n      <th>VisitorType_Returning_Visitor</th>\n      <th>Weekend_False</th>\n      <th>Weekend_True</th>\n    </tr>\n  </thead>\n  <tbody>\n    <tr>\n      <th>0</th>\n      <td>0</td>\n      <td>0.0</td>\n      <td>0</td>\n      <td>0.0</td>\n      <td>1</td>\n      <td>0.000000</td>\n      <td>0.20</td>\n      <td>0.20</td>\n      <td>0.0</td>\n      <td>False</td>\n      <td>1</td>\n      <td>0</td>\n      <td>0</td>\n      <td>0</td>\n      <td>0</td>\n      <td>0</td>\n      <td>1</td>\n      <td>0</td>\n      <td>0</td>\n      <td>0</td>\n      <td>0</td>\n      <td>0</td>\n      <td>0</td>\n      <td>0</td>\n      <td>0</td>\n      <td>...</td>\n      <td>1</td>\n      <td>0</td>\n      <td>0</td>\n      <td>0</td>\n      <td>0</td>\n      <td>0</td>\n      <td>0</td>\n      <td>0</td>\n      <td>0</td>\n      <td>0</td>\n      <td>0</td>\n      <td>0</td>\n      <td>0</td>\n      <td>0</td>\n      <td>0</td>\n      <td>0</td>\n      <td>0</td>\n      <td>0</td>\n      <td>0</td>\n      <td>0</td>\n      <td>0</td>\n      <td>0</td>\n      <td>1</td>\n      <td>1</td>\n      <td>0</td>\n    </tr>\n    <tr>\n      <th>1</th>\n      <td>0</td>\n      <td>0.0</td>\n      <td>0</td>\n      <td>0.0</td>\n      <td>2</td>\n      <td>64.000000</td>\n      <td>0.00</td>\n      <td>0.10</td>\n      <td>0.0</td>\n      <td>False</td>\n      <td>1</td>\n      <td>0</td>\n      <td>0</td>\n      <td>0</td>\n      <td>0</td>\n      <td>0</td>\n      <td>1</td>\n      <td>0</td>\n      <td>0</td>\n      <td>0</td>\n      <td>0</td>\n      <td>0</td>\n      <td>0</td>\n      <td>0</td>\n      <td>0</td>\n      <td>...</td>\n      <td>0</td>\n      <td>1</td>\n      <td>0</td>\n      <td>0</td>\n      <td>0</td>\n      <td>0</td>\n      <td>0</td>\n      <td>0</td>\n      <td>0</td>\n      <td>0</td>\n      <td>0</td>\n      <td>0</td>\n      <td>0</td>\n      <td>0</td>\n      <td>0</td>\n      <td>0</td>\n      <td>0</td>\n      <td>0</td>\n      <td>0</td>\n      <td>0</td>\n      <td>0</td>\n      <td>0</td>\n      <td>1</td>\n      <td>1</td>\n      <td>0</td>\n    </tr>\n    <tr>\n      <th>2</th>\n      <td>0</td>\n      <td>0.0</td>\n      <td>0</td>\n      <td>0.0</td>\n      <td>1</td>\n      <td>0.000000</td>\n      <td>0.20</td>\n      <td>0.20</td>\n      <td>0.0</td>\n      <td>False</td>\n      <td>1</td>\n      <td>0</td>\n      <td>0</td>\n      <td>0</td>\n      <td>0</td>\n      <td>0</td>\n      <td>1</td>\n      <td>0</td>\n      <td>0</td>\n      <td>0</td>\n      <td>0</td>\n      <td>0</td>\n      <td>0</td>\n      <td>0</td>\n      <td>0</td>\n      <td>...</td>\n      <td>0</td>\n      <td>0</td>\n      <td>1</td>\n      <td>0</td>\n      <td>0</td>\n      <td>0</td>\n      <td>0</td>\n      <td>0</td>\n      <td>0</td>\n      <td>0</td>\n      <td>0</td>\n      <td>0</td>\n      <td>0</td>\n      <td>0</td>\n      <td>0</td>\n      <td>0</td>\n      <td>0</td>\n      <td>0</td>\n      <td>0</td>\n      <td>0</td>\n      <td>0</td>\n      <td>0</td>\n      <td>1</td>\n      <td>1</td>\n      <td>0</td>\n    </tr>\n    <tr>\n      <th>3</th>\n      <td>0</td>\n      <td>0.0</td>\n      <td>0</td>\n      <td>0.0</td>\n      <td>2</td>\n      <td>2.666667</td>\n      <td>0.05</td>\n      <td>0.14</td>\n      <td>0.0</td>\n      <td>False</td>\n      <td>1</td>\n      <td>0</td>\n      <td>0</td>\n      <td>0</td>\n      <td>0</td>\n      <td>0</td>\n      <td>1</td>\n      <td>0</td>\n      <td>0</td>\n      <td>0</td>\n      <td>0</td>\n      <td>0</td>\n      <td>0</td>\n      <td>0</td>\n      <td>0</td>\n      <td>...</td>\n      <td>0</td>\n      <td>0</td>\n      <td>0</td>\n      <td>1</td>\n      <td>0</td>\n      <td>0</td>\n      <td>0</td>\n      <td>0</td>\n      <td>0</td>\n      <td>0</td>\n      <td>0</td>\n      <td>0</td>\n      <td>0</td>\n      <td>0</td>\n      <td>0</td>\n      <td>0</td>\n      <td>0</td>\n      <td>0</td>\n      <td>0</td>\n      <td>0</td>\n      <td>0</td>\n      <td>0</td>\n      <td>1</td>\n      <td>1</td>\n      <td>0</td>\n    </tr>\n    <tr>\n      <th>4</th>\n      <td>0</td>\n      <td>0.0</td>\n      <td>0</td>\n      <td>0.0</td>\n      <td>10</td>\n      <td>627.500000</td>\n      <td>0.02</td>\n      <td>0.05</td>\n      <td>0.0</td>\n      <td>False</td>\n      <td>1</td>\n      <td>0</td>\n      <td>0</td>\n      <td>0</td>\n      <td>0</td>\n      <td>0</td>\n      <td>1</td>\n      <td>0</td>\n      <td>0</td>\n      <td>0</td>\n      <td>0</td>\n      <td>0</td>\n      <td>0</td>\n      <td>0</td>\n      <td>0</td>\n      <td>...</td>\n      <td>0</td>\n      <td>0</td>\n      <td>0</td>\n      <td>1</td>\n      <td>0</td>\n      <td>0</td>\n      <td>0</td>\n      <td>0</td>\n      <td>0</td>\n      <td>0</td>\n      <td>0</td>\n      <td>0</td>\n      <td>0</td>\n      <td>0</td>\n      <td>0</td>\n      <td>0</td>\n      <td>0</td>\n      <td>0</td>\n      <td>0</td>\n      <td>0</td>\n      <td>0</td>\n      <td>0</td>\n      <td>1</td>\n      <td>0</td>\n      <td>1</td>\n    </tr>\n  </tbody>\n</table>\n<p>5 rows × 81 columns</p>\n</div>"
     },
     "metadata": {},
     "execution_count": 7
    }
   ],
   "source": [
    "model_df.head()"
   ]
  },
  {
   "cell_type": "code",
   "execution_count": 8,
   "metadata": {},
   "outputs": [],
   "source": [
    "# Dummying 'Revenue'\n",
    "model_df['Revenue'] = model_df['Revenue'].astype(int)"
   ]
  },
  {
   "cell_type": "code",
   "execution_count": 9,
   "metadata": {},
   "outputs": [
    {
     "output_type": "execute_result",
     "data": {
      "text/plain": [
       "   Administrative  Administrative_Duration  Informational  \\\n",
       "0               0                      0.0              0   \n",
       "1               0                      0.0              0   \n",
       "2               0                      0.0              0   \n",
       "3               0                      0.0              0   \n",
       "4               0                      0.0              0   \n",
       "\n",
       "   Informational_Duration  ProductRelated  ProductRelated_Duration  \\\n",
       "0                     0.0               1                 0.000000   \n",
       "1                     0.0               2                64.000000   \n",
       "2                     0.0               1                 0.000000   \n",
       "3                     0.0               2                 2.666667   \n",
       "4                     0.0              10               627.500000   \n",
       "\n",
       "   BounceRates  ExitRates  PageValues  Revenue  SpecialDay_0.0  \\\n",
       "0         0.20       0.20         0.0        0               1   \n",
       "1         0.00       0.10         0.0        0               1   \n",
       "2         0.20       0.20         0.0        0               1   \n",
       "3         0.05       0.14         0.0        0               1   \n",
       "4         0.02       0.05         0.0        0               1   \n",
       "\n",
       "   SpecialDay_0.2  SpecialDay_0.4  SpecialDay_0.6  SpecialDay_0.8  \\\n",
       "0               0               0               0               0   \n",
       "1               0               0               0               0   \n",
       "2               0               0               0               0   \n",
       "3               0               0               0               0   \n",
       "4               0               0               0               0   \n",
       "\n",
       "   SpecialDay_1.0  Month_2  Month_3  Month_5  Month_6  Month_7  Month_8  \\\n",
       "0               0        1        0        0        0        0        0   \n",
       "1               0        1        0        0        0        0        0   \n",
       "2               0        1        0        0        0        0        0   \n",
       "3               0        1        0        0        0        0        0   \n",
       "4               0        1        0        0        0        0        0   \n",
       "\n",
       "   Month_9  Month_10  Month_11  ...  TrafficType_1  TrafficType_2  \\\n",
       "0        0         0         0  ...              1              0   \n",
       "1        0         0         0  ...              0              1   \n",
       "2        0         0         0  ...              0              0   \n",
       "3        0         0         0  ...              0              0   \n",
       "4        0         0         0  ...              0              0   \n",
       "\n",
       "   TrafficType_3  TrafficType_4  TrafficType_5  TrafficType_6  TrafficType_7  \\\n",
       "0              0              0              0              0              0   \n",
       "1              0              0              0              0              0   \n",
       "2              1              0              0              0              0   \n",
       "3              0              1              0              0              0   \n",
       "4              0              1              0              0              0   \n",
       "\n",
       "   TrafficType_8  TrafficType_9  TrafficType_10  TrafficType_11  \\\n",
       "0              0              0               0               0   \n",
       "1              0              0               0               0   \n",
       "2              0              0               0               0   \n",
       "3              0              0               0               0   \n",
       "4              0              0               0               0   \n",
       "\n",
       "   TrafficType_12  TrafficType_13  TrafficType_14  TrafficType_15  \\\n",
       "0               0               0               0               0   \n",
       "1               0               0               0               0   \n",
       "2               0               0               0               0   \n",
       "3               0               0               0               0   \n",
       "4               0               0               0               0   \n",
       "\n",
       "   TrafficType_16  TrafficType_17  TrafficType_18  TrafficType_19  \\\n",
       "0               0               0               0               0   \n",
       "1               0               0               0               0   \n",
       "2               0               0               0               0   \n",
       "3               0               0               0               0   \n",
       "4               0               0               0               0   \n",
       "\n",
       "   TrafficType_20  VisitorType_New_Visitor  VisitorType_Other  \\\n",
       "0               0                        0                  0   \n",
       "1               0                        0                  0   \n",
       "2               0                        0                  0   \n",
       "3               0                        0                  0   \n",
       "4               0                        0                  0   \n",
       "\n",
       "   VisitorType_Returning_Visitor  Weekend_False  Weekend_True  \n",
       "0                              1              1             0  \n",
       "1                              1              1             0  \n",
       "2                              1              1             0  \n",
       "3                              1              1             0  \n",
       "4                              1              0             1  \n",
       "\n",
       "[5 rows x 81 columns]"
      ],
      "text/html": "<div>\n<style scoped>\n    .dataframe tbody tr th:only-of-type {\n        vertical-align: middle;\n    }\n\n    .dataframe tbody tr th {\n        vertical-align: top;\n    }\n\n    .dataframe thead th {\n        text-align: right;\n    }\n</style>\n<table border=\"1\" class=\"dataframe\">\n  <thead>\n    <tr style=\"text-align: right;\">\n      <th></th>\n      <th>Administrative</th>\n      <th>Administrative_Duration</th>\n      <th>Informational</th>\n      <th>Informational_Duration</th>\n      <th>ProductRelated</th>\n      <th>ProductRelated_Duration</th>\n      <th>BounceRates</th>\n      <th>ExitRates</th>\n      <th>PageValues</th>\n      <th>Revenue</th>\n      <th>SpecialDay_0.0</th>\n      <th>SpecialDay_0.2</th>\n      <th>SpecialDay_0.4</th>\n      <th>SpecialDay_0.6</th>\n      <th>SpecialDay_0.8</th>\n      <th>SpecialDay_1.0</th>\n      <th>Month_2</th>\n      <th>Month_3</th>\n      <th>Month_5</th>\n      <th>Month_6</th>\n      <th>Month_7</th>\n      <th>Month_8</th>\n      <th>Month_9</th>\n      <th>Month_10</th>\n      <th>Month_11</th>\n      <th>...</th>\n      <th>TrafficType_1</th>\n      <th>TrafficType_2</th>\n      <th>TrafficType_3</th>\n      <th>TrafficType_4</th>\n      <th>TrafficType_5</th>\n      <th>TrafficType_6</th>\n      <th>TrafficType_7</th>\n      <th>TrafficType_8</th>\n      <th>TrafficType_9</th>\n      <th>TrafficType_10</th>\n      <th>TrafficType_11</th>\n      <th>TrafficType_12</th>\n      <th>TrafficType_13</th>\n      <th>TrafficType_14</th>\n      <th>TrafficType_15</th>\n      <th>TrafficType_16</th>\n      <th>TrafficType_17</th>\n      <th>TrafficType_18</th>\n      <th>TrafficType_19</th>\n      <th>TrafficType_20</th>\n      <th>VisitorType_New_Visitor</th>\n      <th>VisitorType_Other</th>\n      <th>VisitorType_Returning_Visitor</th>\n      <th>Weekend_False</th>\n      <th>Weekend_True</th>\n    </tr>\n  </thead>\n  <tbody>\n    <tr>\n      <th>0</th>\n      <td>0</td>\n      <td>0.0</td>\n      <td>0</td>\n      <td>0.0</td>\n      <td>1</td>\n      <td>0.000000</td>\n      <td>0.20</td>\n      <td>0.20</td>\n      <td>0.0</td>\n      <td>0</td>\n      <td>1</td>\n      <td>0</td>\n      <td>0</td>\n      <td>0</td>\n      <td>0</td>\n      <td>0</td>\n      <td>1</td>\n      <td>0</td>\n      <td>0</td>\n      <td>0</td>\n      <td>0</td>\n      <td>0</td>\n      <td>0</td>\n      <td>0</td>\n      <td>0</td>\n      <td>...</td>\n      <td>1</td>\n      <td>0</td>\n      <td>0</td>\n      <td>0</td>\n      <td>0</td>\n      <td>0</td>\n      <td>0</td>\n      <td>0</td>\n      <td>0</td>\n      <td>0</td>\n      <td>0</td>\n      <td>0</td>\n      <td>0</td>\n      <td>0</td>\n      <td>0</td>\n      <td>0</td>\n      <td>0</td>\n      <td>0</td>\n      <td>0</td>\n      <td>0</td>\n      <td>0</td>\n      <td>0</td>\n      <td>1</td>\n      <td>1</td>\n      <td>0</td>\n    </tr>\n    <tr>\n      <th>1</th>\n      <td>0</td>\n      <td>0.0</td>\n      <td>0</td>\n      <td>0.0</td>\n      <td>2</td>\n      <td>64.000000</td>\n      <td>0.00</td>\n      <td>0.10</td>\n      <td>0.0</td>\n      <td>0</td>\n      <td>1</td>\n      <td>0</td>\n      <td>0</td>\n      <td>0</td>\n      <td>0</td>\n      <td>0</td>\n      <td>1</td>\n      <td>0</td>\n      <td>0</td>\n      <td>0</td>\n      <td>0</td>\n      <td>0</td>\n      <td>0</td>\n      <td>0</td>\n      <td>0</td>\n      <td>...</td>\n      <td>0</td>\n      <td>1</td>\n      <td>0</td>\n      <td>0</td>\n      <td>0</td>\n      <td>0</td>\n      <td>0</td>\n      <td>0</td>\n      <td>0</td>\n      <td>0</td>\n      <td>0</td>\n      <td>0</td>\n      <td>0</td>\n      <td>0</td>\n      <td>0</td>\n      <td>0</td>\n      <td>0</td>\n      <td>0</td>\n      <td>0</td>\n      <td>0</td>\n      <td>0</td>\n      <td>0</td>\n      <td>1</td>\n      <td>1</td>\n      <td>0</td>\n    </tr>\n    <tr>\n      <th>2</th>\n      <td>0</td>\n      <td>0.0</td>\n      <td>0</td>\n      <td>0.0</td>\n      <td>1</td>\n      <td>0.000000</td>\n      <td>0.20</td>\n      <td>0.20</td>\n      <td>0.0</td>\n      <td>0</td>\n      <td>1</td>\n      <td>0</td>\n      <td>0</td>\n      <td>0</td>\n      <td>0</td>\n      <td>0</td>\n      <td>1</td>\n      <td>0</td>\n      <td>0</td>\n      <td>0</td>\n      <td>0</td>\n      <td>0</td>\n      <td>0</td>\n      <td>0</td>\n      <td>0</td>\n      <td>...</td>\n      <td>0</td>\n      <td>0</td>\n      <td>1</td>\n      <td>0</td>\n      <td>0</td>\n      <td>0</td>\n      <td>0</td>\n      <td>0</td>\n      <td>0</td>\n      <td>0</td>\n      <td>0</td>\n      <td>0</td>\n      <td>0</td>\n      <td>0</td>\n      <td>0</td>\n      <td>0</td>\n      <td>0</td>\n      <td>0</td>\n      <td>0</td>\n      <td>0</td>\n      <td>0</td>\n      <td>0</td>\n      <td>1</td>\n      <td>1</td>\n      <td>0</td>\n    </tr>\n    <tr>\n      <th>3</th>\n      <td>0</td>\n      <td>0.0</td>\n      <td>0</td>\n      <td>0.0</td>\n      <td>2</td>\n      <td>2.666667</td>\n      <td>0.05</td>\n      <td>0.14</td>\n      <td>0.0</td>\n      <td>0</td>\n      <td>1</td>\n      <td>0</td>\n      <td>0</td>\n      <td>0</td>\n      <td>0</td>\n      <td>0</td>\n      <td>1</td>\n      <td>0</td>\n      <td>0</td>\n      <td>0</td>\n      <td>0</td>\n      <td>0</td>\n      <td>0</td>\n      <td>0</td>\n      <td>0</td>\n      <td>...</td>\n      <td>0</td>\n      <td>0</td>\n      <td>0</td>\n      <td>1</td>\n      <td>0</td>\n      <td>0</td>\n      <td>0</td>\n      <td>0</td>\n      <td>0</td>\n      <td>0</td>\n      <td>0</td>\n      <td>0</td>\n      <td>0</td>\n      <td>0</td>\n      <td>0</td>\n      <td>0</td>\n      <td>0</td>\n      <td>0</td>\n      <td>0</td>\n      <td>0</td>\n      <td>0</td>\n      <td>0</td>\n      <td>1</td>\n      <td>1</td>\n      <td>0</td>\n    </tr>\n    <tr>\n      <th>4</th>\n      <td>0</td>\n      <td>0.0</td>\n      <td>0</td>\n      <td>0.0</td>\n      <td>10</td>\n      <td>627.500000</td>\n      <td>0.02</td>\n      <td>0.05</td>\n      <td>0.0</td>\n      <td>0</td>\n      <td>1</td>\n      <td>0</td>\n      <td>0</td>\n      <td>0</td>\n      <td>0</td>\n      <td>0</td>\n      <td>1</td>\n      <td>0</td>\n      <td>0</td>\n      <td>0</td>\n      <td>0</td>\n      <td>0</td>\n      <td>0</td>\n      <td>0</td>\n      <td>0</td>\n      <td>...</td>\n      <td>0</td>\n      <td>0</td>\n      <td>0</td>\n      <td>1</td>\n      <td>0</td>\n      <td>0</td>\n      <td>0</td>\n      <td>0</td>\n      <td>0</td>\n      <td>0</td>\n      <td>0</td>\n      <td>0</td>\n      <td>0</td>\n      <td>0</td>\n      <td>0</td>\n      <td>0</td>\n      <td>0</td>\n      <td>0</td>\n      <td>0</td>\n      <td>0</td>\n      <td>0</td>\n      <td>0</td>\n      <td>1</td>\n      <td>0</td>\n      <td>1</td>\n    </tr>\n  </tbody>\n</table>\n<p>5 rows × 81 columns</p>\n</div>"
     },
     "metadata": {},
     "execution_count": 9
    }
   ],
   "source": [
    "model_df.head()"
   ]
  },
  {
   "source": [
    "## Train-Test Split"
   ],
   "cell_type": "markdown",
   "metadata": {}
  },
  {
   "cell_type": "code",
   "execution_count": 10,
   "metadata": {},
   "outputs": [],
   "source": [
    "# Split data to be used in the models\n",
    "X = model_df.drop('Revenue', axis = 1)\n",
    "\n",
    "# Create target variable\n",
    "y = model_df['Revenue'] # y is the column we're trying to predict"
   ]
  },
  {
   "cell_type": "code",
   "execution_count": 11,
   "metadata": {},
   "outputs": [],
   "source": [
    "X_train, X_test, y_train, y_test = train_test_split(X, y, test_size=0.25, random_state=11)"
   ]
  },
  {
   "source": [
    "## Baseline Logistic Regression Model"
   ],
   "cell_type": "markdown",
   "metadata": {}
  },
  {
   "cell_type": "code",
   "execution_count": 12,
   "metadata": {},
   "outputs": [
    {
     "output_type": "stream",
     "name": "stderr",
     "text": [
      "[Parallel(n_jobs=-1)]: Using backend LokyBackend with 8 concurrent workers.\n",
      "Baseline Logistic Regression Model\n",
      "Training F1 Score:  0.5101851851851852\n",
      "Training Recall:  0.3893992932862191\n",
      "Testing F1 Score:  0.4805555555555556\n",
      "Testing Recall:  0.3509127789046653\n",
      "[Parallel(n_jobs=-1)]: Done   1 out of   1 | elapsed:    5.7s finished\n"
     ]
    }
   ],
   "source": [
    "baseline_log_reg = LogisticRegression(max_iter=500, verbose=1, n_jobs=-1)\n",
    "\n",
    "baseline_log_reg.fit(X_train, y_train)\n",
    "\n",
    "log_reg_pred_train = baseline_log_reg.predict(X_train)\n",
    "log_reg_pred_test = baseline_log_reg.predict(X_test)\n",
    "\n",
    "print('Baseline Logistic Regression Model')\n",
    "print(\"Training F1 Score: \", metrics.f1_score(y_train, log_reg_pred_train))\n",
    "print(\"Training Recall: \", metrics.recall_score(y_train, log_reg_pred_train))\n",
    "\n",
    "print(\"Testing F1 Score: \", metrics.f1_score(y_test, log_reg_pred_test))\n",
    "print(\"Testing Recall: \", metrics.recall_score(y_test, log_reg_pred_test))\n",
    "# print(\"Baseline Accuracy Score:\",metrics.accuracy_score(y_test, baseline_preds))\n",
    "# print(\"Baseline ROC, AUC Score:\",metrics.roc_auc_score(y_test, baseline_preds))\n",
    "# print(\"Baseline Precision Score:\",metrics.precision_score(y_test, baseline_preds))"
   ]
  },
  {
   "cell_type": "code",
   "execution_count": 15,
   "metadata": {},
   "outputs": [],
   "source": [
    "# adding scaler\n",
    "scaler = StandardScaler()  \n",
    "scaler.fit(X_train)\n",
    "\n",
    "X_train = scaler.transform(X_train)  \n",
    "X_test = scaler.transform(X_test)"
   ]
  },
  {
   "source": [
    "## Creating 'Real' Model"
   ],
   "cell_type": "markdown",
   "metadata": {}
  },
  {
   "cell_type": "code",
   "execution_count": 14,
   "metadata": {},
   "outputs": [
    {
     "output_type": "stream",
     "name": "stderr",
     "text": [
      "[Parallel(n_jobs=-1)]: Using backend LokyBackend with 8 concurrent workers.\n",
      "Testing F1 Score: 0.6021328958162427\n",
      "Testing Accuracy Score: 0.842685695750892\n",
      "Testing ROC,AUC Score: 0.8029059340418367\n",
      "Testing Precision Score: 0.5055096418732782\n",
      "Testing Recall Score: 0.744421906693712\n",
      "[Parallel(n_jobs=-1)]: Done   1 out of   1 | elapsed:    1.3s finished\n"
     ]
    }
   ],
   "source": [
    "balanced_log = LogisticRegression(class_weight='balanced', solver='lbfgs', verbose=1, n_jobs=-1)\n",
    "\n",
    "balanced_log.fit(X_train, y_train)\n",
    "\n",
    "balanced_preds = balanced_log.predict(X_test)\n",
    "\n",
    "print(\"Testing F1 Score:\",metrics.f1_score(y_test, balanced_preds))\n",
    "print(\"Testing Accuracy Score:\",metrics.accuracy_score(y_test, balanced_preds))\n",
    "print(\"Testing ROC,AUC Score:\",metrics.roc_auc_score(y_test, balanced_preds))\n",
    "print(\"Testing Precision Score:\",metrics.precision_score(y_test, balanced_preds))\n",
    "print(\"Testing Recall Score:\",metrics.recall_score(y_test, balanced_preds))"
   ]
  },
  {
   "cell_type": "code",
   "execution_count": null,
   "metadata": {},
   "outputs": [],
   "source": []
  },
  {
   "cell_type": "code",
   "execution_count": null,
   "metadata": {},
   "outputs": [],
   "source": []
  },
  {
   "cell_type": "code",
   "execution_count": null,
   "metadata": {},
   "outputs": [],
   "source": []
  },
  {
   "cell_type": "code",
   "execution_count": null,
   "metadata": {},
   "outputs": [],
   "source": []
  }
 ]
}