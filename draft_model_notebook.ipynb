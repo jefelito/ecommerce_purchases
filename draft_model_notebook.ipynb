{
 "metadata": {
  "language_info": {
   "codemirror_mode": {
    "name": "ipython",
    "version": 3
   },
   "file_extension": ".py",
   "mimetype": "text/x-python",
   "name": "python",
   "nbconvert_exporter": "python",
   "pygments_lexer": "ipython3",
   "version": "3.6.9-final"
  },
  "orig_nbformat": 2,
  "kernelspec": {
   "name": "python3",
   "display_name": "Python 3"
  }
 },
 "nbformat": 4,
 "nbformat_minor": 2,
 "cells": [
  {
   "source": [
    "# E-commerce Customer Purchase Intentions"
   ],
   "cell_type": "markdown",
   "metadata": {}
  },
  {
   "source": [
    "## Overview\n",
    "\n",
    "The `online_shoppers_intention.csv` includes 12,330 sessions of online traffic to an unknown website over the period of a year. The column 'Revnue' contains a True or False value that displays whether or not a website viewer purchases the product. This serves as the target variable for the clasification problem. Using the other columns provided, we can create a classification model that can predict whether a site visitor will purhase the product.\n",
    "\n",
    "The scoring metric will be ___ ___ because ____."
   ],
   "cell_type": "markdown",
   "metadata": {}
  },
  {
   "source": [
    "## Primary Business Problem\n",
    "How can the company increase purchase rate among customers who visit the website?"
   ],
   "cell_type": "markdown",
   "metadata": {}
  },
  {
   "source": [
    "## Model Data Import"
   ],
   "cell_type": "markdown",
   "metadata": {}
  },
  {
   "cell_type": "code",
   "execution_count": 5,
   "metadata": {},
   "outputs": [],
   "source": [
    "# import libraries\n",
    "import pandas as pd\n",
    "pd.options.display.max_columns = 50\n",
    "import numpy as np\n",
    "import matplotlib.pyplot as plt\n",
    "import seaborn as sns\n",
    "%matplotlib inline\n",
    "import sklearn\n",
    "from sklearn.preprocessing import StandardScaler, binarize\n",
    "from sklearn.neighbors import KNeighborsClassifier\n",
    "from sklearn.linear_model import LogisticRegression\n",
    "from sklearn.tree import DecisionTreeClassifier\n",
    "from sklearn.ensemble import RandomForestClassifier\n",
    "# add import for Decision Treees\n",
    "from sklearn.feature_selection import RFECV, SelectKBest, f_regression\n",
    "import sklearn.metrics as metrics\n",
    "from sklearn.metrics import accuracy_score, precision_score, recall_score, f1_score, confusion_matrix, plot_confusion_matrix, roc_curve, auc, classification_report\n",
    "from sklearn.model_selection import train_test_split, cross_validate, cross_val_score, GridSearchCV\n",
    "import pickle"
   ]
  },
  {
   "cell_type": "code",
   "execution_count": 6,
   "metadata": {},
   "outputs": [],
   "source": [
    "# loading in cleaned dataset\n",
    "model_df = pd.read_csv('model_data.csv', index_col = 0)"
   ]
  },
  {
   "cell_type": "code",
   "execution_count": 7,
   "metadata": {},
   "outputs": [
    {
     "output_type": "execute_result",
     "data": {
      "text/plain": [
       "   Administrative  Administrative_Duration  Informational  \\\n",
       "0               0                      0.0              0   \n",
       "1               0                      0.0              0   \n",
       "2               0                      0.0              0   \n",
       "3               0                      0.0              0   \n",
       "4               0                      0.0              0   \n",
       "\n",
       "   Informational_Duration  ProductRelated  ProductRelated_Duration  \\\n",
       "0                     0.0               1                 0.000000   \n",
       "1                     0.0               2                64.000000   \n",
       "2                     0.0               1                 0.000000   \n",
       "3                     0.0               2                 2.666667   \n",
       "4                     0.0              10               627.500000   \n",
       "\n",
       "   BounceRates  ExitRates  PageValues  SpecialDay  Month  OperatingSystems  \\\n",
       "0         0.20       0.20         0.0         0.0      2                 1   \n",
       "1         0.00       0.10         0.0         0.0      2                 2   \n",
       "2         0.20       0.20         0.0         0.0      2                 4   \n",
       "3         0.05       0.14         0.0         0.0      2                 3   \n",
       "4         0.02       0.05         0.0         0.0      2                 3   \n",
       "\n",
       "   Browser  Region  TrafficType        VisitorType  Weekend  Revenue  \n",
       "0        1       1            1  Returning_Visitor    False    False  \n",
       "1        2       1            2  Returning_Visitor    False    False  \n",
       "2        1       9            3  Returning_Visitor    False    False  \n",
       "3        2       2            4  Returning_Visitor    False    False  \n",
       "4        3       1            4  Returning_Visitor     True    False  "
      ],
      "text/html": "<div>\n<style scoped>\n    .dataframe tbody tr th:only-of-type {\n        vertical-align: middle;\n    }\n\n    .dataframe tbody tr th {\n        vertical-align: top;\n    }\n\n    .dataframe thead th {\n        text-align: right;\n    }\n</style>\n<table border=\"1\" class=\"dataframe\">\n  <thead>\n    <tr style=\"text-align: right;\">\n      <th></th>\n      <th>Administrative</th>\n      <th>Administrative_Duration</th>\n      <th>Informational</th>\n      <th>Informational_Duration</th>\n      <th>ProductRelated</th>\n      <th>ProductRelated_Duration</th>\n      <th>BounceRates</th>\n      <th>ExitRates</th>\n      <th>PageValues</th>\n      <th>SpecialDay</th>\n      <th>Month</th>\n      <th>OperatingSystems</th>\n      <th>Browser</th>\n      <th>Region</th>\n      <th>TrafficType</th>\n      <th>VisitorType</th>\n      <th>Weekend</th>\n      <th>Revenue</th>\n    </tr>\n  </thead>\n  <tbody>\n    <tr>\n      <th>0</th>\n      <td>0</td>\n      <td>0.0</td>\n      <td>0</td>\n      <td>0.0</td>\n      <td>1</td>\n      <td>0.000000</td>\n      <td>0.20</td>\n      <td>0.20</td>\n      <td>0.0</td>\n      <td>0.0</td>\n      <td>2</td>\n      <td>1</td>\n      <td>1</td>\n      <td>1</td>\n      <td>1</td>\n      <td>Returning_Visitor</td>\n      <td>False</td>\n      <td>False</td>\n    </tr>\n    <tr>\n      <th>1</th>\n      <td>0</td>\n      <td>0.0</td>\n      <td>0</td>\n      <td>0.0</td>\n      <td>2</td>\n      <td>64.000000</td>\n      <td>0.00</td>\n      <td>0.10</td>\n      <td>0.0</td>\n      <td>0.0</td>\n      <td>2</td>\n      <td>2</td>\n      <td>2</td>\n      <td>1</td>\n      <td>2</td>\n      <td>Returning_Visitor</td>\n      <td>False</td>\n      <td>False</td>\n    </tr>\n    <tr>\n      <th>2</th>\n      <td>0</td>\n      <td>0.0</td>\n      <td>0</td>\n      <td>0.0</td>\n      <td>1</td>\n      <td>0.000000</td>\n      <td>0.20</td>\n      <td>0.20</td>\n      <td>0.0</td>\n      <td>0.0</td>\n      <td>2</td>\n      <td>4</td>\n      <td>1</td>\n      <td>9</td>\n      <td>3</td>\n      <td>Returning_Visitor</td>\n      <td>False</td>\n      <td>False</td>\n    </tr>\n    <tr>\n      <th>3</th>\n      <td>0</td>\n      <td>0.0</td>\n      <td>0</td>\n      <td>0.0</td>\n      <td>2</td>\n      <td>2.666667</td>\n      <td>0.05</td>\n      <td>0.14</td>\n      <td>0.0</td>\n      <td>0.0</td>\n      <td>2</td>\n      <td>3</td>\n      <td>2</td>\n      <td>2</td>\n      <td>4</td>\n      <td>Returning_Visitor</td>\n      <td>False</td>\n      <td>False</td>\n    </tr>\n    <tr>\n      <th>4</th>\n      <td>0</td>\n      <td>0.0</td>\n      <td>0</td>\n      <td>0.0</td>\n      <td>10</td>\n      <td>627.500000</td>\n      <td>0.02</td>\n      <td>0.05</td>\n      <td>0.0</td>\n      <td>0.0</td>\n      <td>2</td>\n      <td>3</td>\n      <td>3</td>\n      <td>1</td>\n      <td>4</td>\n      <td>Returning_Visitor</td>\n      <td>True</td>\n      <td>False</td>\n    </tr>\n  </tbody>\n</table>\n</div>"
     },
     "metadata": {},
     "execution_count": 7
    }
   ],
   "source": [
    "model_df.head()"
   ]
  },
  {
   "source": [
    "### Creating Dummy Columns from Categorical Varibales"
   ],
   "cell_type": "markdown",
   "metadata": {}
  },
  {
   "cell_type": "code",
   "execution_count": 8,
   "metadata": {},
   "outputs": [],
   "source": [
    "model_df = pd.get_dummies(model_df, columns=['SpecialDay', 'Month', 'OperatingSystems','Browser','Region','TrafficType','VisitorType','Weekend'])"
   ]
  },
  {
   "cell_type": "code",
   "execution_count": 9,
   "metadata": {},
   "outputs": [
    {
     "output_type": "execute_result",
     "data": {
      "text/plain": [
       "   Administrative  Administrative_Duration  Informational  \\\n",
       "0               0                      0.0              0   \n",
       "1               0                      0.0              0   \n",
       "2               0                      0.0              0   \n",
       "3               0                      0.0              0   \n",
       "4               0                      0.0              0   \n",
       "\n",
       "   Informational_Duration  ProductRelated  ProductRelated_Duration  \\\n",
       "0                     0.0               1                 0.000000   \n",
       "1                     0.0               2                64.000000   \n",
       "2                     0.0               1                 0.000000   \n",
       "3                     0.0               2                 2.666667   \n",
       "4                     0.0              10               627.500000   \n",
       "\n",
       "   BounceRates  ExitRates  PageValues  Revenue  SpecialDay_0.0  \\\n",
       "0         0.20       0.20         0.0    False               1   \n",
       "1         0.00       0.10         0.0    False               1   \n",
       "2         0.20       0.20         0.0    False               1   \n",
       "3         0.05       0.14         0.0    False               1   \n",
       "4         0.02       0.05         0.0    False               1   \n",
       "\n",
       "   SpecialDay_0.2  SpecialDay_0.4  SpecialDay_0.6  SpecialDay_0.8  \\\n",
       "0               0               0               0               0   \n",
       "1               0               0               0               0   \n",
       "2               0               0               0               0   \n",
       "3               0               0               0               0   \n",
       "4               0               0               0               0   \n",
       "\n",
       "   SpecialDay_1.0  Month_2  Month_3  Month_5  Month_6  Month_7  Month_8  \\\n",
       "0               0        1        0        0        0        0        0   \n",
       "1               0        1        0        0        0        0        0   \n",
       "2               0        1        0        0        0        0        0   \n",
       "3               0        1        0        0        0        0        0   \n",
       "4               0        1        0        0        0        0        0   \n",
       "\n",
       "   Month_9  Month_10  Month_11  ...  TrafficType_1  TrafficType_2  \\\n",
       "0        0         0         0  ...              1              0   \n",
       "1        0         0         0  ...              0              1   \n",
       "2        0         0         0  ...              0              0   \n",
       "3        0         0         0  ...              0              0   \n",
       "4        0         0         0  ...              0              0   \n",
       "\n",
       "   TrafficType_3  TrafficType_4  TrafficType_5  TrafficType_6  TrafficType_7  \\\n",
       "0              0              0              0              0              0   \n",
       "1              0              0              0              0              0   \n",
       "2              1              0              0              0              0   \n",
       "3              0              1              0              0              0   \n",
       "4              0              1              0              0              0   \n",
       "\n",
       "   TrafficType_8  TrafficType_9  TrafficType_10  TrafficType_11  \\\n",
       "0              0              0               0               0   \n",
       "1              0              0               0               0   \n",
       "2              0              0               0               0   \n",
       "3              0              0               0               0   \n",
       "4              0              0               0               0   \n",
       "\n",
       "   TrafficType_12  TrafficType_13  TrafficType_14  TrafficType_15  \\\n",
       "0               0               0               0               0   \n",
       "1               0               0               0               0   \n",
       "2               0               0               0               0   \n",
       "3               0               0               0               0   \n",
       "4               0               0               0               0   \n",
       "\n",
       "   TrafficType_16  TrafficType_17  TrafficType_18  TrafficType_19  \\\n",
       "0               0               0               0               0   \n",
       "1               0               0               0               0   \n",
       "2               0               0               0               0   \n",
       "3               0               0               0               0   \n",
       "4               0               0               0               0   \n",
       "\n",
       "   TrafficType_20  VisitorType_New_Visitor  VisitorType_Other  \\\n",
       "0               0                        0                  0   \n",
       "1               0                        0                  0   \n",
       "2               0                        0                  0   \n",
       "3               0                        0                  0   \n",
       "4               0                        0                  0   \n",
       "\n",
       "   VisitorType_Returning_Visitor  Weekend_False  Weekend_True  \n",
       "0                              1              1             0  \n",
       "1                              1              1             0  \n",
       "2                              1              1             0  \n",
       "3                              1              1             0  \n",
       "4                              1              0             1  \n",
       "\n",
       "[5 rows x 81 columns]"
      ],
      "text/html": "<div>\n<style scoped>\n    .dataframe tbody tr th:only-of-type {\n        vertical-align: middle;\n    }\n\n    .dataframe tbody tr th {\n        vertical-align: top;\n    }\n\n    .dataframe thead th {\n        text-align: right;\n    }\n</style>\n<table border=\"1\" class=\"dataframe\">\n  <thead>\n    <tr style=\"text-align: right;\">\n      <th></th>\n      <th>Administrative</th>\n      <th>Administrative_Duration</th>\n      <th>Informational</th>\n      <th>Informational_Duration</th>\n      <th>ProductRelated</th>\n      <th>ProductRelated_Duration</th>\n      <th>BounceRates</th>\n      <th>ExitRates</th>\n      <th>PageValues</th>\n      <th>Revenue</th>\n      <th>SpecialDay_0.0</th>\n      <th>SpecialDay_0.2</th>\n      <th>SpecialDay_0.4</th>\n      <th>SpecialDay_0.6</th>\n      <th>SpecialDay_0.8</th>\n      <th>SpecialDay_1.0</th>\n      <th>Month_2</th>\n      <th>Month_3</th>\n      <th>Month_5</th>\n      <th>Month_6</th>\n      <th>Month_7</th>\n      <th>Month_8</th>\n      <th>Month_9</th>\n      <th>Month_10</th>\n      <th>Month_11</th>\n      <th>...</th>\n      <th>TrafficType_1</th>\n      <th>TrafficType_2</th>\n      <th>TrafficType_3</th>\n      <th>TrafficType_4</th>\n      <th>TrafficType_5</th>\n      <th>TrafficType_6</th>\n      <th>TrafficType_7</th>\n      <th>TrafficType_8</th>\n      <th>TrafficType_9</th>\n      <th>TrafficType_10</th>\n      <th>TrafficType_11</th>\n      <th>TrafficType_12</th>\n      <th>TrafficType_13</th>\n      <th>TrafficType_14</th>\n      <th>TrafficType_15</th>\n      <th>TrafficType_16</th>\n      <th>TrafficType_17</th>\n      <th>TrafficType_18</th>\n      <th>TrafficType_19</th>\n      <th>TrafficType_20</th>\n      <th>VisitorType_New_Visitor</th>\n      <th>VisitorType_Other</th>\n      <th>VisitorType_Returning_Visitor</th>\n      <th>Weekend_False</th>\n      <th>Weekend_True</th>\n    </tr>\n  </thead>\n  <tbody>\n    <tr>\n      <th>0</th>\n      <td>0</td>\n      <td>0.0</td>\n      <td>0</td>\n      <td>0.0</td>\n      <td>1</td>\n      <td>0.000000</td>\n      <td>0.20</td>\n      <td>0.20</td>\n      <td>0.0</td>\n      <td>False</td>\n      <td>1</td>\n      <td>0</td>\n      <td>0</td>\n      <td>0</td>\n      <td>0</td>\n      <td>0</td>\n      <td>1</td>\n      <td>0</td>\n      <td>0</td>\n      <td>0</td>\n      <td>0</td>\n      <td>0</td>\n      <td>0</td>\n      <td>0</td>\n      <td>0</td>\n      <td>...</td>\n      <td>1</td>\n      <td>0</td>\n      <td>0</td>\n      <td>0</td>\n      <td>0</td>\n      <td>0</td>\n      <td>0</td>\n      <td>0</td>\n      <td>0</td>\n      <td>0</td>\n      <td>0</td>\n      <td>0</td>\n      <td>0</td>\n      <td>0</td>\n      <td>0</td>\n      <td>0</td>\n      <td>0</td>\n      <td>0</td>\n      <td>0</td>\n      <td>0</td>\n      <td>0</td>\n      <td>0</td>\n      <td>1</td>\n      <td>1</td>\n      <td>0</td>\n    </tr>\n    <tr>\n      <th>1</th>\n      <td>0</td>\n      <td>0.0</td>\n      <td>0</td>\n      <td>0.0</td>\n      <td>2</td>\n      <td>64.000000</td>\n      <td>0.00</td>\n      <td>0.10</td>\n      <td>0.0</td>\n      <td>False</td>\n      <td>1</td>\n      <td>0</td>\n      <td>0</td>\n      <td>0</td>\n      <td>0</td>\n      <td>0</td>\n      <td>1</td>\n      <td>0</td>\n      <td>0</td>\n      <td>0</td>\n      <td>0</td>\n      <td>0</td>\n      <td>0</td>\n      <td>0</td>\n      <td>0</td>\n      <td>...</td>\n      <td>0</td>\n      <td>1</td>\n      <td>0</td>\n      <td>0</td>\n      <td>0</td>\n      <td>0</td>\n      <td>0</td>\n      <td>0</td>\n      <td>0</td>\n      <td>0</td>\n      <td>0</td>\n      <td>0</td>\n      <td>0</td>\n      <td>0</td>\n      <td>0</td>\n      <td>0</td>\n      <td>0</td>\n      <td>0</td>\n      <td>0</td>\n      <td>0</td>\n      <td>0</td>\n      <td>0</td>\n      <td>1</td>\n      <td>1</td>\n      <td>0</td>\n    </tr>\n    <tr>\n      <th>2</th>\n      <td>0</td>\n      <td>0.0</td>\n      <td>0</td>\n      <td>0.0</td>\n      <td>1</td>\n      <td>0.000000</td>\n      <td>0.20</td>\n      <td>0.20</td>\n      <td>0.0</td>\n      <td>False</td>\n      <td>1</td>\n      <td>0</td>\n      <td>0</td>\n      <td>0</td>\n      <td>0</td>\n      <td>0</td>\n      <td>1</td>\n      <td>0</td>\n      <td>0</td>\n      <td>0</td>\n      <td>0</td>\n      <td>0</td>\n      <td>0</td>\n      <td>0</td>\n      <td>0</td>\n      <td>...</td>\n      <td>0</td>\n      <td>0</td>\n      <td>1</td>\n      <td>0</td>\n      <td>0</td>\n      <td>0</td>\n      <td>0</td>\n      <td>0</td>\n      <td>0</td>\n      <td>0</td>\n      <td>0</td>\n      <td>0</td>\n      <td>0</td>\n      <td>0</td>\n      <td>0</td>\n      <td>0</td>\n      <td>0</td>\n      <td>0</td>\n      <td>0</td>\n      <td>0</td>\n      <td>0</td>\n      <td>0</td>\n      <td>1</td>\n      <td>1</td>\n      <td>0</td>\n    </tr>\n    <tr>\n      <th>3</th>\n      <td>0</td>\n      <td>0.0</td>\n      <td>0</td>\n      <td>0.0</td>\n      <td>2</td>\n      <td>2.666667</td>\n      <td>0.05</td>\n      <td>0.14</td>\n      <td>0.0</td>\n      <td>False</td>\n      <td>1</td>\n      <td>0</td>\n      <td>0</td>\n      <td>0</td>\n      <td>0</td>\n      <td>0</td>\n      <td>1</td>\n      <td>0</td>\n      <td>0</td>\n      <td>0</td>\n      <td>0</td>\n      <td>0</td>\n      <td>0</td>\n      <td>0</td>\n      <td>0</td>\n      <td>...</td>\n      <td>0</td>\n      <td>0</td>\n      <td>0</td>\n      <td>1</td>\n      <td>0</td>\n      <td>0</td>\n      <td>0</td>\n      <td>0</td>\n      <td>0</td>\n      <td>0</td>\n      <td>0</td>\n      <td>0</td>\n      <td>0</td>\n      <td>0</td>\n      <td>0</td>\n      <td>0</td>\n      <td>0</td>\n      <td>0</td>\n      <td>0</td>\n      <td>0</td>\n      <td>0</td>\n      <td>0</td>\n      <td>1</td>\n      <td>1</td>\n      <td>0</td>\n    </tr>\n    <tr>\n      <th>4</th>\n      <td>0</td>\n      <td>0.0</td>\n      <td>0</td>\n      <td>0.0</td>\n      <td>10</td>\n      <td>627.500000</td>\n      <td>0.02</td>\n      <td>0.05</td>\n      <td>0.0</td>\n      <td>False</td>\n      <td>1</td>\n      <td>0</td>\n      <td>0</td>\n      <td>0</td>\n      <td>0</td>\n      <td>0</td>\n      <td>1</td>\n      <td>0</td>\n      <td>0</td>\n      <td>0</td>\n      <td>0</td>\n      <td>0</td>\n      <td>0</td>\n      <td>0</td>\n      <td>0</td>\n      <td>...</td>\n      <td>0</td>\n      <td>0</td>\n      <td>0</td>\n      <td>1</td>\n      <td>0</td>\n      <td>0</td>\n      <td>0</td>\n      <td>0</td>\n      <td>0</td>\n      <td>0</td>\n      <td>0</td>\n      <td>0</td>\n      <td>0</td>\n      <td>0</td>\n      <td>0</td>\n      <td>0</td>\n      <td>0</td>\n      <td>0</td>\n      <td>0</td>\n      <td>0</td>\n      <td>0</td>\n      <td>0</td>\n      <td>1</td>\n      <td>0</td>\n      <td>1</td>\n    </tr>\n  </tbody>\n</table>\n<p>5 rows × 81 columns</p>\n</div>"
     },
     "metadata": {},
     "execution_count": 9
    }
   ],
   "source": [
    "model_df.head()"
   ]
  },
  {
   "source": [
    "## 1. Train-Test Split"
   ],
   "cell_type": "markdown",
   "metadata": {}
  },
  {
   "cell_type": "code",
   "execution_count": 10,
   "metadata": {},
   "outputs": [],
   "source": [
    "# Split data to be used in the models\n",
    "X = model_df.drop('Revenue', axis = 1)\n",
    "\n",
    "# Create target variable\n",
    "y = model_df['Revenue'] # y is the column we're trying to predict"
   ]
  },
  {
   "cell_type": "code",
   "execution_count": 11,
   "metadata": {},
   "outputs": [],
   "source": [
    "X_train, X_test, y_train, y_test = train_test_split(X, y, test_size=0.25, random_state=11)"
   ]
  },
  {
   "source": [
    "## 2. Creating Baseline Models\n",
    "KNN, Logistic Regression, Decision Tree or Random Forest?"
   ],
   "cell_type": "markdown",
   "metadata": {}
  },
  {
   "source": [],
   "cell_type": "code",
   "metadata": {},
   "execution_count": null,
   "outputs": []
  },
  {
   "cell_type": "code",
   "execution_count": null,
   "metadata": {},
   "outputs": [],
   "source": []
  },
  {
   "cell_type": "code",
   "execution_count": null,
   "metadata": {},
   "outputs": [],
   "source": []
  },
  {
   "source": [
    "### Baseline Decision Tree\n",
    "Creating a Decision Tree model without any hyperparameters"
   ],
   "cell_type": "markdown",
   "metadata": {}
  },
  {
   "cell_type": "code",
   "execution_count": 12,
   "metadata": {},
   "outputs": [],
   "source": [
    "baseline_tree = DecisionTreeClassifier()\n",
    "baseline_tree = baseline_tree.fit(X_train, y_train)"
   ]
  },
  {
   "cell_type": "code",
   "execution_count": 13,
   "metadata": {},
   "outputs": [],
   "source": [
    "# predict the training set\n",
    "tree_y_pred_train = baseline_tree.predict(X_train)\n",
    "\n",
    "# Predict the for test set\n",
    "tree_y_pred_test = baseline_tree.predict(X_test)"
   ]
  },
  {
   "cell_type": "code",
   "execution_count": 16,
   "metadata": {},
   "outputs": [
    {
     "output_type": "stream",
     "name": "stdout",
     "text": [
      "Baseline Decision Tree Model\nTraining F1 Score:  1.0\nTraining Recall:  1.0\nTesting F1 Score:  0.5813008130081301\nTesting Recall:  0.5801217038539553\n"
     ]
    }
   ],
   "source": [
    "print('Baseline Decision Tree Model')\n",
    "print(\"Training F1 Score: \", metrics.f1_score(y_train, tree_y_pred_train))\n",
    "print(\"Training Recall: \", metrics.recall_score(y_train, tree_y_pred_train))\n",
    "\n",
    "print(\"Testing F1 Score: \", metrics.f1_score(y_test, tree_y_pred_test))\n",
    "print(\"Testing Recall: \", metrics.recall_score(y_test, tree_y_pred_test))"
   ]
  },
  {
   "source": [
    "## 3. Feature Engineering"
   ],
   "cell_type": "markdown",
   "metadata": {}
  },
  {
   "cell_type": "code",
   "execution_count": null,
   "metadata": {},
   "outputs": [],
   "source": []
  },
  {
   "cell_type": "code",
   "execution_count": null,
   "metadata": {},
   "outputs": [],
   "source": []
  },
  {
   "source": [
    "## Evaluation Metric(s)\n",
    "Before starting the final modeling process, we must decide on the evaluation metrics. The main metrics will will focus on are F1 Score and Recall.\n",
    "\n",
    "This is because:\n",
    "- F1 Score is useful in cases where there is a large class imalance. In this business context, it's important because...?\n",
    "- Recall is used in this context where false negatives are intolerable. The true positive rate must be higher because the company needs to know how many people actually purchased the product."
   ],
   "cell_type": "markdown",
   "metadata": {}
  },
  {
   "source": [
    "### Scaling data before making 'Real Models'"
   ],
   "cell_type": "markdown",
   "metadata": {}
  },
  {
   "cell_type": "code",
   "execution_count": 14,
   "metadata": {},
   "outputs": [],
   "source": [
    "scaler = StandardScaler()  \n",
    "scaler.fit(X_train)\n",
    "\n",
    "X_train = scaler.transform(X_train)  \n",
    "X_test = scaler.transform(X_test)"
   ]
  },
  {
   "cell_type": "code",
   "execution_count": null,
   "metadata": {},
   "outputs": [],
   "source": []
  },
  {
   "source": [
    "## 3. Creating 'Real' Models"
   ],
   "cell_type": "markdown",
   "metadata": {}
  },
  {
   "cell_type": "code",
   "execution_count": null,
   "metadata": {},
   "outputs": [],
   "source": []
  },
  {
   "cell_type": "code",
   "execution_count": null,
   "metadata": {},
   "outputs": [],
   "source": []
  },
  {
   "source": [
    "### at least 2 iterations are required"
   ],
   "cell_type": "markdown",
   "metadata": {}
  },
  {
   "cell_type": "code",
   "execution_count": null,
   "metadata": {},
   "outputs": [],
   "source": []
  },
  {
   "cell_type": "code",
   "execution_count": null,
   "metadata": {},
   "outputs": [],
   "source": []
  },
  {
   "source": [
    "## 4. Feature Selection"
   ],
   "cell_type": "markdown",
   "metadata": {}
  },
  {
   "cell_type": "code",
   "execution_count": null,
   "metadata": {},
   "outputs": [],
   "source": []
  },
  {
   "source": [
    "## 5. Evaluating all the different models\n",
    "(Scoring all the different models)"
   ],
   "cell_type": "markdown",
   "metadata": {}
  },
  {
   "source": [
    "## MVP Analysis\n",
    "- Must decide what metrics we want to measure this"
   ],
   "cell_type": "markdown",
   "metadata": {}
  },
  {
   "cell_type": "code",
   "execution_count": null,
   "metadata": {},
   "outputs": [],
   "source": []
  },
  {
   "source": [
    "## Final Model "
   ],
   "cell_type": "markdown",
   "metadata": {}
  },
  {
   "cell_type": "code",
   "execution_count": null,
   "metadata": {},
   "outputs": [],
   "source": []
  },
  {
   "source": [
    "## 6. Retfitting the final model on full dataset"
   ],
   "cell_type": "markdown",
   "metadata": {}
  },
  {
   "cell_type": "code",
   "execution_count": null,
   "metadata": {},
   "outputs": [],
   "source": []
  }
 ]
}