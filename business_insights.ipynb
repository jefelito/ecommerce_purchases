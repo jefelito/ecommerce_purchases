{
 "metadata": {
  "language_info": {
   "codemirror_mode": {
    "name": "ipython",
    "version": 3
   },
   "file_extension": ".py",
   "mimetype": "text/x-python",
   "name": "python",
   "nbconvert_exporter": "python",
   "pygments_lexer": "ipython3",
   "version": "3.6.9-final"
  },
  "orig_nbformat": 2,
  "kernelspec": {
   "name": "python3",
   "display_name": "Python 3"
  }
 },
 "nbformat": 4,
 "nbformat_minor": 2,
 "cells": [
  {
   "source": [
    "The purpose of this notebook is to summarize the findings from `eda_notebook.ipynb` that address our business problems"
   ],
   "cell_type": "markdown",
   "metadata": {}
  },
  {
   "source": [
    "## Primary Business Problem\n",
    "How can the company increase purchase rate among customers who visit the website?"
   ],
   "cell_type": "markdown",
   "metadata": {}
  },
  {
   "source": [
    "## Business Questions:\n",
    "1. How does the number of visiors differ each month?\n",
    "2. Do returning visitors have a higher revenue than one-time visitors?\n",
    "3. What feature has the best and worst impact on revenue?"
   ],
   "cell_type": "markdown",
   "metadata": {}
  },
  {
   "source": [
    "Problem 1"
   ],
   "cell_type": "markdown",
   "metadata": {}
  },
  {
   "source": [
    "Graph that addresses the problem"
   ],
   "cell_type": "markdown",
   "metadata": {}
  },
  {
   "source": [
    "List of insights"
   ],
   "cell_type": "markdown",
   "metadata": {}
  },
  {
   "source": [
    "Actionable Reccomendation"
   ],
   "cell_type": "markdown",
   "metadata": {}
  },
  {
   "source": [
    "Problem 2"
   ],
   "cell_type": "markdown",
   "metadata": {}
  },
  {
   "source": [
    "Problem 3"
   ],
   "cell_type": "markdown",
   "metadata": {}
  },
  {
   "source": [
    "## Next Steps"
   ],
   "cell_type": "markdown",
   "metadata": {}
  },
  {
   "source": [
    "- A/B Testing\n",
    "- \n",
    "-"
   ],
   "cell_type": "markdown",
   "metadata": {}
  }
 ]
}