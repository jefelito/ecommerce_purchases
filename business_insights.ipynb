{
 "metadata": {
  "language_info": {
   "codemirror_mode": {
    "name": "ipython",
    "version": 3
   },
   "file_extension": ".py",
   "mimetype": "text/x-python",
   "name": "python",
   "nbconvert_exporter": "python",
   "pygments_lexer": "ipython3",
   "version": "3.6.9-final"
  },
  "orig_nbformat": 2,
  "kernelspec": {
   "name": "python3",
   "display_name": "Python 3"
  }
 },
 "nbformat": 4,
 "nbformat_minor": 2,
 "cells": [
  {
   "source": [
    "The purpose of this notebook is to summarize the findings from `eda_notebook.ipynb` that address our business questions. The final modeling process can be found in `final_mode.ipynb`."
   ],
   "cell_type": "markdown",
   "metadata": {}
  },
  {
   "source": [
    "## Primary Business Problem\n",
    "**What are the areas of opportunity to increase conversion among people who visit the website?**\n",
    "\n",
    "From the distrbution of 'Revenue' in this dataset, it's clear that 85% of people who visited the website that year did not convert to a customer. To solve this problem, we'll investigate what factors impact this decision."
   ],
   "cell_type": "markdown",
   "metadata": {}
  },
  {
   "source": [
    "![imbalance](./visualizations/class_imbalance.png)"
   ],
   "cell_type": "markdown",
   "metadata": {}
  },
  {
   "source": [
    "## Business Questions:\n",
    "1. How does the number of visitors differ each month?\n",
    "2. Do returning visitors have a higher revenue than one-time visitors?\n",
    "3. What feature has the highest influence on revenue?"
   ],
   "cell_type": "markdown",
   "metadata": {}
  },
  {
   "source": [
    "## How does the number of visitors differ each month?"
   ],
   "cell_type": "markdown",
   "metadata": {}
  },
  {
   "source": [
    "![months](./visualizations/num_visitors.png)"
   ],
   "cell_type": "markdown",
   "metadata": {}
  },
  {
   "source": [
    "- In May and November, the site has the most traffic so this could be due to the holidays surrounding those months.\n",
    "- Mother's Day is May 9, but traffic could be due to the overall early summer aspects.\n",
    "- November could be correlated with Thanksgiving and Black Friday.\n",
    "\n",
    "Here we can see that November is one of the most popular month. And it has the most impact in the decision tree!"
   ],
   "cell_type": "markdown",
   "metadata": {}
  },
  {
   "source": [
    "Actionable Reccomendations:\n",
    "- Promote the site during these peak months, focusing on spring up until early summer."
   ],
   "cell_type": "markdown",
   "metadata": {}
  },
  {
   "source": [
    "## Do returning visitors have a higher revenue than one-time visitors?"
   ],
   "cell_type": "markdown",
   "metadata": {}
  },
  {
   "source": [
    "![visitors](./visualizations/visitor_types.png)"
   ],
   "cell_type": "markdown",
   "metadata": {}
  },
  {
   "source": [
    "![visitors](./visualizations/region_by_revenue.png)"
   ],
   "cell_type": "markdown",
   "metadata": {}
  },
  {
   "source": [
    "List of insights:\n",
    "- From the first graph, we can see that most site visitors are returning visitors. This can mean there is high customer loyalty.\n",
    "- the traffic type, region, and operating system graphs are not too interpretable because there is no legend provided.\n",
    "- But we can clearly see that there a specific region that draws in the most site visits. And that they are mostly returning visitors who purchase the most out of every other region\n",
    "- Just like with region, there are traffic types and operating systems that outperform the others, but it's just difficult to interpret these graphs.\n",
    "- Therefore, we need to gather more information as to what those values mean."
   ],
   "cell_type": "markdown",
   "metadata": {}
  },
  {
   "source": [
    "Actionable Reccomendation:\n",
    "- Because a majority of purchasers are returning visitors, focus advertising efforts towards people who have already viewed the site to encourage them to return and convert to a customer."
   ],
   "cell_type": "markdown",
   "metadata": {}
  },
  {
   "source": [
    "## What feature has the highest influence on revenue?"
   ],
   "cell_type": "markdown",
   "metadata": {}
  },
  {
   "source": [
    "![revenue](./visualizations/target_correlation.png)"
   ],
   "cell_type": "markdown",
   "metadata": {}
  },
  {
   "source": [
    "- This graph can show us all the features used in the model.\n",
    "- It's clear that PageValue is the most highly correlated with the target 'Revenue'.\n",
    "\n",
    "Actionable Reccemendation:\n",
    "- Page Value is a metric goal set by the company, this is the most crucial feature to focus on. Because the higher the page value, the higher the chance that they'll transact, meaning they viewed more pages."
   ],
   "cell_type": "markdown",
   "metadata": {}
  },
  {
   "source": [
    "## Next Steps\n",
    "- Collect more data, but include a legend for categorical variables to promote interpretability.\n",
    "- Webscrape similar data from other e-commerce stores within the industry to see how the model performs with that blind data.\n",
    "- A/B Testing the web design of the prominence of Administrative and Informational page links to increase length of user session."
   ],
   "cell_type": "markdown",
   "metadata": {}
  }
 ]
}